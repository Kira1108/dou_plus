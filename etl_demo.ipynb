{
 "cells": [
  {
   "cell_type": "code",
   "execution_count": 12,
   "metadata": {},
   "outputs": [],
   "source": [
    "from config import DB_CONN_INFO,DB_URI\n",
    "import pymysql\n",
    "import pandas as pd\n",
    "import sqlalchemy"
   ]
  },
  {
   "cell_type": "code",
   "execution_count": 5,
   "metadata": {},
   "outputs": [],
   "source": [
    "connection = pymysql.connect(**DB_CONN_INFO)\n",
    "engine = sqlalchemy.create_engine(DB_URI)"
   ]
  },
  {
   "cell_type": "code",
   "execution_count": 47,
   "metadata": {},
   "outputs": [],
   "source": [
    "USER_STATS_SQL = \"\"\"select l.id, \n",
    "    sum(l.sales_volume) as total_volume, \n",
    "    count(distinct l.uid) as num_lives, \n",
    "    sum(l.total_viewer) as total_viewer,\n",
    "    avg(l.total_viewer) as avg_viewer,\n",
    "    max(l.max_viewer) as max_viewer,\n",
    "    g.goods_count as total_goods_count,\n",
    "    g.total_sales_money as live_sales_money,\n",
    "    g.total_sales_money / count(distinct l.uid) as avg_live_sales_money\n",
    "from base_live l\n",
    "left join (\n",
    "    select id, \n",
    "        count(distinct goods_id) as goods_count, \n",
    "        sum(sales_price) as total_sales_money,\n",
    "        sum(sales_count) as total_sales_count\n",
    "    from base_live_goods\n",
    "    group by id\n",
    ") g on l.id = g.id\n",
    "group by l.id\n",
    "order by g.total_sales_count desc\"\"\"\n",
    "\n",
    "TAG_SQL = '''select id, tag, sum(sales_count) as scount from base_live_goods\n",
    "group by id, tag'''"
   ]
  },
  {
   "cell_type": "code",
   "execution_count": 93,
   "metadata": {},
   "outputs": [],
   "source": [
    "def user_stats():\n",
    "    connection = pymysql.connect(**DB_CONN_INFO)\n",
    "    df = pd.read_sql_query(USER_STATS_SQL, connection)\n",
    "    connection.close()\n",
    "    return df\n",
    "\n",
    "def user_tags():\n",
    "    connection = pymysql.connect(**DB_CONN_INFO)\n",
    "    df = pd.read_sql_query(TAG_SQL, connection)\n",
    "    connection.close()\n",
    "    \n",
    "    blogger_tags = tag.sort_values(by = ['id','scount'],ascending = False)\\\n",
    "    .groupby('id')\\\n",
    "    .head(3)\\\n",
    "    .groupby('id')['tag'].apply(lambda x:list(x))\n",
    "\n",
    "    blogger_tags = pd.DataFrame(blogger_tags)['tag'].apply(lambda x: [xx for xx in x if xx != '']).reset_index()\n",
    "    blogger_tags['tag'] = blogger_tags['tag'].apply( lambda x: ','.join(x))\n",
    "    return blogger_tags\n",
    "\n",
    "def run_pipeline():\n",
    "    engine = sqlalchemy.create_engine(DB_URI)\n",
    "    df = user_stats().merge(user_tags(), on = 'id', how = 'left')\n",
    "    df.to_sql('user_stats', con = engine, index = False, if_exists = 'replace')\n",
    "    print('User stats completed')\n",
    "    "
   ]
  },
  {
   "cell_type": "code",
   "execution_count": 89,
   "metadata": {},
   "outputs": [],
   "source": [
    "df1 = user_tags()"
   ]
  },
  {
   "cell_type": "code",
   "execution_count": 94,
   "metadata": {},
   "outputs": [],
   "source": [
    "df = user_stats().merge(user_tags(), on = 'id', how = 'left')\n",
    "df.to_sql('user_stats', con = engine, index = False, if_exists = 'replace')"
   ]
  },
  {
   "cell_type": "code",
   "execution_count": 95,
   "metadata": {},
   "outputs": [],
   "source": [
    "df.to_sql('user_stats', con = engine, index = False, if_exists = 'replace')"
   ]
  },
  {
   "cell_type": "code",
   "execution_count": 20,
   "metadata": {},
   "outputs": [],
   "source": [
    "tag_sql = '''select id, tag, sum(sales_count) as scount from base_live_goods\n",
    "group by id, tag'''\n",
    "\n",
    "tag = pd.read_sql_query(tag_sql, connection)"
   ]
  },
  {
   "cell_type": "code",
   "execution_count": 35,
   "metadata": {},
   "outputs": [],
   "source": [
    "blogger_tags = tag.sort_values(by = ['id','scount'],ascending = False)\\\n",
    ".groupby('id')\\\n",
    ".head(3)\\\n",
    ".groupby('id')['tag'].apply(lambda x:list(x))\n",
    "\n",
    "blogger_tags = pd.DataFrame(blogger_tags)['tag'].apply(lambda x: [xx for xx in x if xx != '']).reset_index()"
   ]
  },
  {
   "cell_type": "code",
   "execution_count": 42,
   "metadata": {},
   "outputs": [],
   "source": []
  },
  {
   "cell_type": "code",
   "execution_count": 19,
   "metadata": {},
   "outputs": [
    {
     "ename": "SyntaxError",
     "evalue": "invalid character in identifier (<ipython-input-19-4bc0734410f0>, line 1)",
     "output_type": "error",
     "traceback": [
      "\u001b[0;36m  File \u001b[0;32m\"<ipython-input-19-4bc0734410f0>\"\u001b[0;36m, line \u001b[0;32m1\u001b[0m\n\u001b[0;31m    说明： 所有有直播的用户中，按照直播销售总额倒序。\u001b[0m\n\u001b[0m      ^\u001b[0m\n\u001b[0;31mSyntaxError\u001b[0m\u001b[0;31m:\u001b[0m invalid character in identifier\n"
     ]
    }
   ],
   "source": [
    "说明： 所有有直播的用户中，按照直播销售总额倒序。\n",
    "\n",
    "\n",
    "\n",
    "\n",
    "\n",
    "主播粒度： id, name, fans, douyin\n",
    "\n",
    "\n",
    "\n",
    "聚合粒度：\n",
    "\n",
    "live_sales_count: 所有直播加起来的总销量\n",
    "\n",
    "num_lives: 直播数量\n",
    "\n",
    "total_viewer: 所有直播加来的观看量\n",
    "\n",
    "avg_viewer: 平均单场直播的观看量\n",
    "\n",
    "max_viewer: 所有直播的所有时刻的最大观看量\n",
    "\n",
    "total_goods_count: 所有直播中带过的货品的总量\n",
    "\n",
    "live_sales_money: 所有直播加起来总带货收入\n",
    "\n",
    "avg_lives_sales_money: 平均单场直播收入\n",
    "\n",
    "goods_tag_list: 按照降序排列的品类前5个"
   ]
  },
  {
   "cell_type": "code",
   "execution_count": null,
   "metadata": {},
   "outputs": [],
   "source": []
  }
 ],
 "metadata": {
  "kernelspec": {
   "display_name": "Python 3",
   "language": "python",
   "name": "python3"
  },
  "language_info": {
   "codemirror_mode": {
    "name": "ipython",
    "version": 3
   },
   "file_extension": ".py",
   "mimetype": "text/x-python",
   "name": "python",
   "nbconvert_exporter": "python",
   "pygments_lexer": "ipython3",
   "version": "3.8.3"
  }
 },
 "nbformat": 4,
 "nbformat_minor": 4
}
